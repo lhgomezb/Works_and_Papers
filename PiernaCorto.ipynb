{
 "cells": [
  {
   "cell_type": "code",
   "execution_count": 55,
   "id": "fee2e564-e82d-407d-a235-95ae8f2d204a",
   "metadata": {
    "tags": []
   },
   "outputs": [],
   "source": [
    "import os \n",
    "\n",
    "os.chdir(r\"C:\\Users\\lhgom\\Documents\\Proyectos Python\\MT 5\")\n",
    "\n",
    "%run ManejoCuenta/ManejoCuenta.ipynb\n",
    "%run DataHistorica/DataHistorica.ipynb\n",
    "%run ManejoOrdenes/Ordenes.ipynb\n",
    "%run ManejoCuenta/ManejoCuenta.ipynb\n",
    "%run IndicadoresTecnicos/IndicadoresTecnicos.ipynb\n",
    "%run Backtesting/BT_Corto.ipynb\n",
    "%run Backtesting/BT_MacdOscilador.ipynb\n",
    "%run KPIs/KPIs.ipynb"
   ]
  },
  {
   "cell_type": "code",
   "execution_count": 3,
   "id": "debaad82-ad6d-4962-9b01-1f6dd1556135",
   "metadata": {
    "tags": []
   },
   "outputs": [],
   "source": [
    "import MetaTrader5 as mt5\n",
    "import datetime as dt\n",
    "import pandas as pd\n",
    "import time"
   ]
  },
  {
   "cell_type": "markdown",
   "id": "4a9a90a0-0f5e-4297-a261-5939c5162f62",
   "metadata": {},
   "source": [
    "# Leer llave seguridad"
   ]
  },
  {
   "cell_type": "code",
   "execution_count": 6,
   "id": "a4f7d3bd-39e6-404c-b43f-34a7e06070bf",
   "metadata": {
    "tags": []
   },
   "outputs": [],
   "source": [
    "os.chdir(r\"C:\\Users\\lhgom\\Documents\\Proyectos Python\\MT 5\")\n",
    "key = open(\"key.txt\").read().split()\n",
    "path = r\"C:\\Program Files\\MetaTrader 5\\terminal64.exe\""
   ]
  },
  {
   "cell_type": "markdown",
   "id": "145f4deb-6224-415c-872c-4b2ae5eb64ee",
   "metadata": {},
   "source": [
    "# Inicializar Conexion"
   ]
  },
  {
   "cell_type": "code",
   "execution_count": 9,
   "id": "41b58739-da1f-4fc0-9a38-191448712cee",
   "metadata": {
    "tags": []
   },
   "outputs": [
    {
     "name": "stdout",
     "output_type": "stream",
     "text": [
      "Conexion Exitosa\n"
     ]
    }
   ],
   "source": [
    "if mt5.initialize(path=path,login=int(key[0]),password=key[1],server=key[2]):\n",
    "    print(\"Conexion Exitosa\")"
   ]
  },
  {
   "cell_type": "markdown",
   "id": "9e6c09f3-f5dd-4a58-897c-07d131d55848",
   "metadata": {},
   "source": [
    "# Obtener Simbolos Acciones"
   ]
  },
  {
   "cell_type": "code",
   "execution_count": 20,
   "id": "71b9fdcf-35e4-4ed1-99df-660c5edb95e9",
   "metadata": {
    "tags": []
   },
   "outputs": [],
   "source": [
    "tickers = [\"GOOGL\",\"META\",\"AMZN\",\"TSLA\",\"XOM\",\"GE\",\"CAT\",\"MSFT\",\"LLY\",\"JPM\"]"
   ]
  },
  {
   "cell_type": "markdown",
   "id": "8109bde4-d8fa-4819-88a6-a5f2a39b09e0",
   "metadata": {},
   "source": [
    "# Descargar Data Historica"
   ]
  },
  {
   "cell_type": "code",
   "execution_count": 25,
   "id": "8596d6b0-acb4-4054-856e-17d3208c67bb",
   "metadata": {
    "tags": []
   },
   "outputs": [
    {
     "name": "stdout",
     "output_type": "stream",
     "text": [
      "GOOGL\n",
      "META\n",
      "AMZN\n",
      "TSLA\n",
      "XOM\n",
      "GE\n",
      "CAT\n",
      "MSFT\n",
      "LLY\n",
      "JPM\n"
     ]
    }
   ],
   "source": [
    "dataHistorica = extraer_data_historica_multiples_tickers(tickers,mt5.TIMEFRAME_M5,dt.datetime.now(),20000)"
   ]
  },
  {
   "cell_type": "markdown",
   "id": "8172b341-4d29-40c9-a56b-1021957e0a69",
   "metadata": {},
   "source": [
    "# Largo - Corto Velas 5 minutos"
   ]
  },
  {
   "cell_type": "code",
   "execution_count": 27,
   "id": "acd332d2-3470-40de-a77a-649fadaea9d6",
   "metadata": {
    "tags": []
   },
   "outputs": [
    {
     "data": {
      "text/plain": [
       "time\n",
       "2024-06-20 18:50:00-04:00    1.98524\n",
       "Name: ret, dtype: float64"
      ]
     },
     "execution_count": 27,
     "metadata": {},
     "output_type": "execute_result"
    }
   ],
   "source": [
    "ohlc_dict,tickers_ret,trade_count,trade_data = backtest_macd_stoch_corto(dataHistorica,macd_a=6,macd_b=13,macd_c=4,oe_a=5,oe_b=4,oe_limite=30,atr_n=60,vr_ventana=250,vr_limite=1.5)\n",
    "retornos_estrategia,retornos_diarios = calcular_retornos_estrategia(list(dataHistorica.keys()),ohlc_dict)\n",
    "(1 + retornos_estrategia['ret']).cumprod().tail(1)"
   ]
  },
  {
   "cell_type": "code",
   "execution_count": 29,
   "id": "93080292-3fef-4252-9dee-2ad823796179",
   "metadata": {
    "tags": []
   },
   "outputs": [
    {
     "data": {
      "text/plain": [
       "<Axes: xlabel='time'>"
      ]
     },
     "execution_count": 29,
     "metadata": {},
     "output_type": "execute_result"
    },
    {
     "data": {
      "image/png": "[encoded data removed]",
      "text/plain": [
       "<Figure size 640x480 with 1 Axes>"
      ]
     },
     "metadata": {},
     "output_type": "display_data"
    }
   ],
   "source": [
    "(1 + retornos_estrategia['ret']).cumprod().plot()"
   ]
  },
  {
   "cell_type": "code",
   "execution_count": 31,
   "id": "721c34bd-7ef5-4034-9378-11b3c06e0de9",
   "metadata": {
    "tags": []
   },
   "outputs": [
    {
     "name": "stdout",
     "output_type": "stream",
     "text": [
      "KPIs de la Estrategia\n",
      "Tasa Anual Compuesta de Crecimiento:  0.25272888372999014\n",
      "Ratio de Sharpe:  4.112194556977847\n",
      "Volatilidad Anualizada:  0.04808354298180532\n",
      "Maxima Perdida:  0.016031083841553457\n"
     ]
    }
   ],
   "source": [
    "print(\"KPIs de la Estrategia\")\n",
    "print(\"Tasa Anual Compuesta de Crecimiento: \",CAGR(retornos_estrategia))\n",
    "print(\"Ratio de Sharpe: \",ratio_de_sharpe(retornos_estrategia,0.055))\n",
    "print(\"Volatilidad Anualizada: \",volatilidad_anualizada(retornos_estrategia))\n",
    "print(\"Maxima Perdida: \",maxima_perdida(retornos_estrategia))"
   ]
  },
  {
   "cell_type": "code",
   "execution_count": 36,
   "id": "12fb721c-f9fe-4ba8-bce0-45c7bb817f27",
   "metadata": {
    "tags": []
   },
   "outputs": [
    {
     "data": {
      "text/html": [
       "<div>\n",
       "<style scoped>\n",
       "    .dataframe tbody tr th:only-of-type {\n",
       "        vertical-align: middle;\n",
       "    }\n",
       "\n",
       "    .dataframe tbody tr th {\n",
       "        vertical-align: top;\n",
       "    }\n",
       "\n",
       "    .dataframe thead th {\n",
       "        text-align: right;\n",
       "    }\n",
       "</style>\n",
       "<table border=\"1\" class=\"dataframe\">\n",
       "  <thead>\n",
       "    <tr style=\"text-align: right;\">\n",
       "      <th></th>\n",
       "      <th>Retorno</th>\n",
       "      <th>Ratio de Sharpe</th>\n",
       "      <th>Max Perdida</th>\n",
       "    </tr>\n",
       "  </thead>\n",
       "  <tbody>\n",
       "    <tr>\n",
       "      <th>GOOGL</th>\n",
       "      <td>0.273274</td>\n",
       "      <td>1.709588</td>\n",
       "      <td>0.076476</td>\n",
       "    </tr>\n",
       "    <tr>\n",
       "      <th>META</th>\n",
       "      <td>0.214427</td>\n",
       "      <td>1.327533</td>\n",
       "      <td>0.101903</td>\n",
       "    </tr>\n",
       "    <tr>\n",
       "      <th>AMZN</th>\n",
       "      <td>0.144285</td>\n",
       "      <td>0.805207</td>\n",
       "      <td>0.150777</td>\n",
       "    </tr>\n",
       "    <tr>\n",
       "      <th>TSLA</th>\n",
       "      <td>0.527780</td>\n",
       "      <td>2.343609</td>\n",
       "      <td>0.106824</td>\n",
       "    </tr>\n",
       "    <tr>\n",
       "      <th>XOM</th>\n",
       "      <td>0.173931</td>\n",
       "      <td>1.419003</td>\n",
       "      <td>0.101122</td>\n",
       "    </tr>\n",
       "    <tr>\n",
       "      <th>GE</th>\n",
       "      <td>0.255016</td>\n",
       "      <td>1.946424</td>\n",
       "      <td>0.069217</td>\n",
       "    </tr>\n",
       "    <tr>\n",
       "      <th>CAT</th>\n",
       "      <td>0.331284</td>\n",
       "      <td>2.910395</td>\n",
       "      <td>0.051188</td>\n",
       "    </tr>\n",
       "    <tr>\n",
       "      <th>MSFT</th>\n",
       "      <td>0.138862</td>\n",
       "      <td>1.039630</td>\n",
       "      <td>0.115698</td>\n",
       "    </tr>\n",
       "    <tr>\n",
       "      <th>LLY</th>\n",
       "      <td>0.289439</td>\n",
       "      <td>2.188844</td>\n",
       "      <td>0.066419</td>\n",
       "    </tr>\n",
       "    <tr>\n",
       "      <th>JPM</th>\n",
       "      <td>0.159463</td>\n",
       "      <td>1.431997</td>\n",
       "      <td>0.073432</td>\n",
       "    </tr>\n",
       "  </tbody>\n",
       "</table>\n",
       "</div>"
      ],
      "text/plain": [
       "        Retorno  Ratio de Sharpe  Max Perdida\n",
       "GOOGL  0.273274         1.709588     0.076476\n",
       "META   0.214427         1.327533     0.101903\n",
       "AMZN   0.144285         0.805207     0.150777\n",
       "TSLA   0.527780         2.343609     0.106824\n",
       "XOM    0.173931         1.419003     0.101122\n",
       "GE     0.255016         1.946424     0.069217\n",
       "CAT    0.331284         2.910395     0.051188\n",
       "MSFT   0.138862         1.039630     0.115698\n",
       "LLY    0.289439         2.188844     0.066419\n",
       "JPM    0.159463         1.431997     0.073432"
      ]
     },
     "execution_count": 36,
     "metadata": {},
     "output_type": "execute_result"
    }
   ],
   "source": [
    "KPIs_df = calcular_KPIs_individuales(list(dataHistorica.keys()),ohlc_dict)\n",
    "KPIs_df"
   ]
  },
  {
   "cell_type": "markdown",
   "id": "adaf3f0f-8bd8-4167-ac19-fa392c9c3830",
   "metadata": {},
   "source": [
    "# Largo - Corto Velas 10 minutos"
   ]
  },
  {
   "cell_type": "code",
   "execution_count": 49,
   "id": "ed7272b5-723d-4e49-8fe4-ec202de9e2fd",
   "metadata": {
    "tags": []
   },
   "outputs": [
    {
     "name": "stdout",
     "output_type": "stream",
     "text": [
      "GOOGL\n",
      "META\n",
      "AMZN\n",
      "TSLA\n",
      "XOM\n",
      "GE\n",
      "CAT\n",
      "MSFT\n",
      "LLY\n",
      "JPM\n"
     ]
    }
   ],
   "source": [
    "dataHistorica = extraer_data_historica_multiples_tickers(tickers,mt5.TIMEFRAME_M10,dt.datetime.now(),10000)"
   ]
  },
  {
   "cell_type": "code",
   "execution_count": 51,
   "id": "cfa1fd53-49a1-42b0-829f-869c908b6207",
   "metadata": {
    "tags": []
   },
   "outputs": [
    {
     "data": {
      "text/plain": [
       "time\n",
       "2024-06-20 18:50:00-04:00    1.746381\n",
       "Name: ret, dtype: float64"
      ]
     },
     "execution_count": 51,
     "metadata": {},
     "output_type": "execute_result"
    }
   ],
   "source": [
    "ohlc_dict,tickers_ret,trade_count,trade_data = backtest_macd_stoch_corto(dataHistorica,macd_a=6,macd_b=13,macd_c=4,oe_a=5,oe_b=4,oe_limite=30,atr_n=60,vr_ventana=250,vr_limite=1.5)\n",
    "retornos_estrategia,retornos_diarios = calcular_retornos_estrategia(list(dataHistorica.keys()),ohlc_dict)\n",
    "(1 + retornos_estrategia['ret']).cumprod().tail(1)"
   ]
  },
  {
   "cell_type": "code",
   "execution_count": 55,
   "id": "d221a62c-4620-4870-8618-53b78025371a",
   "metadata": {
    "tags": []
   },
   "outputs": [
    {
     "data": {
      "text/plain": [
       "<Axes: xlabel='time'>"
      ]
     },
     "execution_count": 55,
     "metadata": {},
     "output_type": "execute_result"
    },
    {
     "data": {
      "image/png": "[encoded data removed]",
      "text/plain": [
       "<Figure size 640x480 with 1 Axes>"
      ]
     },
     "metadata": {},
     "output_type": "display_data"
    }
   ],
   "source": [
    "(1 + retornos_estrategia['ret']).cumprod().plot()"
   ]
  },
  {
   "cell_type": "code",
   "execution_count": 57,
   "id": "62313895-cb04-4120-a7d8-5a70b9e03db0",
   "metadata": {
    "tags": []
   },
   "outputs": [
    {
     "name": "stdout",
     "output_type": "stream",
     "text": [
      "KPIs de la Estrategia\n",
      "Tasa Anual Compuesta de Crecimiento:  0.44413263041070405\n",
      "Ratio de Sharpe:  5.7997959332380145\n",
      "Volatilidad Anualizada:  0.06709419346646772\n",
      "Maxima Perdida:  0.029759193559577197\n"
     ]
    }
   ],
   "source": [
    "print(\"KPIs de la Estrategia\")\n",
    "print(\"Tasa Anual Compuesta de Crecimiento: \",CAGR(retornos_estrategia))\n",
    "print(\"Ratio de Sharpe: \",ratio_de_sharpe(retornos_estrategia,0.055))\n",
    "print(\"Volatilidad Anualizada: \",volatilidad_anualizada(retornos_estrategia))\n",
    "print(\"Maxima Perdida: \",maxima_perdida(retornos_estrategia))"
   ]
  },
  {
   "cell_type": "code",
   "execution_count": 59,
   "id": "22ebd56a-a1cd-4163-a5e3-a09bc0e4d124",
   "metadata": {
    "tags": []
   },
   "outputs": [
    {
     "data": {
      "text/html": [
       "<div>\n",
       "<style scoped>\n",
       "    .dataframe tbody tr th:only-of-type {\n",
       "        vertical-align: middle;\n",
       "    }\n",
       "\n",
       "    .dataframe tbody tr th {\n",
       "        vertical-align: top;\n",
       "    }\n",
       "\n",
       "    .dataframe thead th {\n",
       "        text-align: right;\n",
       "    }\n",
       "</style>\n",
       "<table border=\"1\" class=\"dataframe\">\n",
       "  <thead>\n",
       "    <tr style=\"text-align: right;\">\n",
       "      <th></th>\n",
       "      <th>Retorno</th>\n",
       "      <th>Ratio de Sharpe</th>\n",
       "      <th>Max Perdida</th>\n",
       "    </tr>\n",
       "  </thead>\n",
       "  <tbody>\n",
       "    <tr>\n",
       "      <th>GOOGL</th>\n",
       "      <td>0.493673</td>\n",
       "      <td>2.594174</td>\n",
       "      <td>0.086991</td>\n",
       "    </tr>\n",
       "    <tr>\n",
       "      <th>META</th>\n",
       "      <td>0.439460</td>\n",
       "      <td>2.272781</td>\n",
       "      <td>0.095551</td>\n",
       "    </tr>\n",
       "    <tr>\n",
       "      <th>AMZN</th>\n",
       "      <td>0.433738</td>\n",
       "      <td>2.359687</td>\n",
       "      <td>0.067231</td>\n",
       "    </tr>\n",
       "    <tr>\n",
       "      <th>TSLA</th>\n",
       "      <td>0.738921</td>\n",
       "      <td>2.484653</td>\n",
       "      <td>0.171488</td>\n",
       "    </tr>\n",
       "    <tr>\n",
       "      <th>XOM</th>\n",
       "      <td>0.539689</td>\n",
       "      <td>3.811404</td>\n",
       "      <td>0.065322</td>\n",
       "    </tr>\n",
       "    <tr>\n",
       "      <th>GE</th>\n",
       "      <td>0.208137</td>\n",
       "      <td>1.142393</td>\n",
       "      <td>0.099966</td>\n",
       "    </tr>\n",
       "    <tr>\n",
       "      <th>CAT</th>\n",
       "      <td>0.487252</td>\n",
       "      <td>2.989855</td>\n",
       "      <td>0.079364</td>\n",
       "    </tr>\n",
       "    <tr>\n",
       "      <th>MSFT</th>\n",
       "      <td>0.233915</td>\n",
       "      <td>1.531410</td>\n",
       "      <td>0.074202</td>\n",
       "    </tr>\n",
       "    <tr>\n",
       "      <th>LLY</th>\n",
       "      <td>0.591336</td>\n",
       "      <td>3.547394</td>\n",
       "      <td>0.100081</td>\n",
       "    </tr>\n",
       "    <tr>\n",
       "      <th>JPM</th>\n",
       "      <td>0.215910</td>\n",
       "      <td>1.575181</td>\n",
       "      <td>0.083322</td>\n",
       "    </tr>\n",
       "  </tbody>\n",
       "</table>\n",
       "</div>"
      ],
      "text/plain": [
       "        Retorno  Ratio de Sharpe  Max Perdida\n",
       "GOOGL  0.493673         2.594174     0.086991\n",
       "META   0.439460         2.272781     0.095551\n",
       "AMZN   0.433738         2.359687     0.067231\n",
       "TSLA   0.738921         2.484653     0.171488\n",
       "XOM    0.539689         3.811404     0.065322\n",
       "GE     0.208137         1.142393     0.099966\n",
       "CAT    0.487252         2.989855     0.079364\n",
       "MSFT   0.233915         1.531410     0.074202\n",
       "LLY    0.591336         3.547394     0.100081\n",
       "JPM    0.215910         1.575181     0.083322"
      ]
     },
     "execution_count": 59,
     "metadata": {},
     "output_type": "execute_result"
    }
   ],
   "source": [
    "KPIs_df = calcular_KPIs_individuales(list(dataHistorica.keys()),ohlc_dict)\n",
    "KPIs_df"
   ]
  },
  {
   "cell_type": "markdown",
   "id": "32ea20fc-da39-40ed-b257-81dfd538ff8f",
   "metadata": {},
   "source": [
    "# Velas 5 minutos, Acciones Sensibles a la Estrategia"
   ]
  },
  {
   "cell_type": "code",
   "execution_count": 65,
   "id": "8482fee6-c22a-43c9-893a-21214a34ee43",
   "metadata": {
    "tags": []
   },
   "outputs": [
    {
     "name": "stdout",
     "output_type": "stream",
     "text": [
      "MRNA\n",
      "NOVA\n",
      "CYRX\n",
      "ENPH\n",
      "AMD\n",
      "ROKU\n",
      "TSLA\n",
      "SAVE\n",
      "JD\n",
      "PRAA\n"
     ]
    }
   ],
   "source": [
    "tickers = [\"MRNA\",\"NOVA\",\"CYRX\",\"ENPH\",\"AMD\",\"ROKU\",\"TSLA\",\"SAVE\",\"JD\",\"PRAA\"]\n",
    "dataHistorica = extraer_data_historica_multiples_tickers(tickers,mt5.TIMEFRAME_M5,dt.datetime.now(),20000)"
   ]
  },
  {
   "cell_type": "markdown",
   "id": "d8f961e3-de0f-4444-9f5f-f280dbeeff43",
   "metadata": {},
   "source": [
    "## Solo Pierna Larga"
   ]
  },
  {
   "cell_type": "code",
   "execution_count": 76,
   "id": "06ab144a-10f8-4fbd-93d2-ed0fbe3fa8e2",
   "metadata": {
    "tags": []
   },
   "outputs": [
    {
     "data": {
      "text/plain": [
       "time\n",
       "2024-06-20 18:50:00-04:00    4.809082\n",
       "Name: ret, dtype: float64"
      ]
     },
     "execution_count": 76,
     "metadata": {},
     "output_type": "execute_result"
    }
   ],
   "source": [
    "ohlc_dict,tickers_ret,trade_count,trade_data = backtest_macd_stoch(dataHistorica,macd_a=6,macd_b=13,macd_c=4,oe_a=5,oe_b=4,oe_limite=30,atr_n=60,vr_ventana=250,vr_limite=1.5)\n",
    "retornos_estrategia,retornos_diarios = calcular_retornos_estrategia(list(dataHistorica.keys()),ohlc_dict)\n",
    "(1 + retornos_estrategia['ret']).cumprod().tail(1)"
   ]
  },
  {
   "cell_type": "markdown",
   "id": "19efa514-59a5-4e14-b000-d7cd44aa46be",
   "metadata": {},
   "source": [
    "## Pierna Larga y Corto"
   ]
  },
  {
   "cell_type": "code",
   "execution_count": 80,
   "id": "dffc0a63-d949-4f13-aac6-8f5841791118",
   "metadata": {
    "tags": []
   },
   "outputs": [
    {
     "data": {
      "text/plain": [
       "time\n",
       "2024-06-20 18:50:00-04:00    6.7893\n",
       "Name: ret, dtype: float64"
      ]
     },
     "execution_count": 80,
     "metadata": {},
     "output_type": "execute_result"
    }
   ],
   "source": [
    "ohlc_dict,tickers_ret,trade_count,trade_data = backtest_macd_stoch_corto(dataHistorica,macd_a=6,macd_b=13,macd_c=4,oe_a=5,oe_b=4,oe_limite=30,atr_n=60,vr_ventana=250,vr_limite=1.5)\n",
    "retornos_estrategia,retornos_diarios = calcular_retornos_estrategia(list(dataHistorica.keys()),ohlc_dict)\n",
    "(1 + retornos_estrategia['ret']).cumprod().tail(1)"
   ]
  },
  {
   "cell_type": "code",
   "execution_count": 82,
   "id": "2260ecfe-8da1-46b8-8bb0-2fe2267c2341",
   "metadata": {
    "tags": []
   },
   "outputs": [
    {
     "data": {
      "text/plain": [
       "<Axes: xlabel='time'>"
      ]
     },
     "execution_count": 82,
     "metadata": {},
     "output_type": "execute_result"
    },
    {
     "data": {
      "image/png": "[encoded data removed]",
      "text/plain": [
       "<Figure size 640x480 with 1 Axes>"
      ]
     },
     "metadata": {},
     "output_type": "display_data"
    }
   ],
   "source": [
    "(1 + retornos_estrategia['ret']).cumprod().plot()"
   ]
  },
  {
   "cell_type": "code",
   "execution_count": 84,
   "id": "83503760-1154-4236-8bf2-8d69a04d2198",
   "metadata": {
    "tags": []
   },
   "outputs": [
    {
     "name": "stdout",
     "output_type": "stream",
     "text": [
      "KPIs de la Estrategia\n",
      "Tasa Anual Compuesta de Crecimiento:  0.8764018392277901\n",
      "Ratio de Sharpe:  7.8743940998465005\n",
      "Volatilidad Anualizada:  0.10431302127027171\n",
      "Maxima Perdida:  0.03165380800725453\n"
     ]
    }
   ],
   "source": [
    "print(\"KPIs de la Estrategia\")\n",
    "print(\"Tasa Anual Compuesta de Crecimiento: \",CAGR(retornos_estrategia))\n",
    "print(\"Ratio de Sharpe: \",ratio_de_sharpe(retornos_estrategia,0.055))\n",
    "print(\"Volatilidad Anualizada: \",volatilidad_anualizada(retornos_estrategia))\n",
    "print(\"Maxima Perdida: \",maxima_perdida(retornos_estrategia))"
   ]
  },
  {
   "cell_type": "code",
   "execution_count": 86,
   "id": "5854935b-5687-4ae5-981e-c956fe255887",
   "metadata": {
    "tags": []
   },
   "outputs": [
    {
     "data": {
      "text/html": [
       "<div>\n",
       "<style scoped>\n",
       "    .dataframe tbody tr th:only-of-type {\n",
       "        vertical-align: middle;\n",
       "    }\n",
       "\n",
       "    .dataframe tbody tr th {\n",
       "        vertical-align: top;\n",
       "    }\n",
       "\n",
       "    .dataframe thead th {\n",
       "        text-align: right;\n",
       "    }\n",
       "</style>\n",
       "<table border=\"1\" class=\"dataframe\">\n",
       "  <thead>\n",
       "    <tr style=\"text-align: right;\">\n",
       "      <th></th>\n",
       "      <th>Retorno</th>\n",
       "      <th>Ratio de Sharpe</th>\n",
       "      <th>Max Perdida</th>\n",
       "    </tr>\n",
       "  </thead>\n",
       "  <tbody>\n",
       "    <tr>\n",
       "      <th>MRNA</th>\n",
       "      <td>0.622144</td>\n",
       "      <td>2.980704</td>\n",
       "      <td>0.154786</td>\n",
       "    </tr>\n",
       "    <tr>\n",
       "      <th>NOVA</th>\n",
       "      <td>1.309462</td>\n",
       "      <td>2.793282</td>\n",
       "      <td>0.341899</td>\n",
       "    </tr>\n",
       "    <tr>\n",
       "      <th>CYRX</th>\n",
       "      <td>1.254061</td>\n",
       "      <td>4.546111</td>\n",
       "      <td>0.141332</td>\n",
       "    </tr>\n",
       "    <tr>\n",
       "      <th>ENPH</th>\n",
       "      <td>0.554405</td>\n",
       "      <td>2.268258</td>\n",
       "      <td>0.148023</td>\n",
       "    </tr>\n",
       "    <tr>\n",
       "      <th>AMD</th>\n",
       "      <td>0.544362</td>\n",
       "      <td>2.727788</td>\n",
       "      <td>0.126456</td>\n",
       "    </tr>\n",
       "    <tr>\n",
       "      <th>ROKU</th>\n",
       "      <td>1.090510</td>\n",
       "      <td>4.069887</td>\n",
       "      <td>0.124242</td>\n",
       "    </tr>\n",
       "    <tr>\n",
       "      <th>TSLA</th>\n",
       "      <td>0.527780</td>\n",
       "      <td>2.343609</td>\n",
       "      <td>0.106824</td>\n",
       "    </tr>\n",
       "    <tr>\n",
       "      <th>SAVE</th>\n",
       "      <td>0.815847</td>\n",
       "      <td>2.472706</td>\n",
       "      <td>0.196827</td>\n",
       "    </tr>\n",
       "    <tr>\n",
       "      <th>JD</th>\n",
       "      <td>0.753502</td>\n",
       "      <td>3.966081</td>\n",
       "      <td>0.081248</td>\n",
       "    </tr>\n",
       "    <tr>\n",
       "      <th>PRAA</th>\n",
       "      <td>1.035148</td>\n",
       "      <td>5.292364</td>\n",
       "      <td>0.127250</td>\n",
       "    </tr>\n",
       "  </tbody>\n",
       "</table>\n",
       "</div>"
      ],
      "text/plain": [
       "       Retorno  Ratio de Sharpe  Max Perdida\n",
       "MRNA  0.622144         2.980704     0.154786\n",
       "NOVA  1.309462         2.793282     0.341899\n",
       "CYRX  1.254061         4.546111     0.141332\n",
       "ENPH  0.554405         2.268258     0.148023\n",
       "AMD   0.544362         2.727788     0.126456\n",
       "ROKU  1.090510         4.069887     0.124242\n",
       "TSLA  0.527780         2.343609     0.106824\n",
       "SAVE  0.815847         2.472706     0.196827\n",
       "JD    0.753502         3.966081     0.081248\n",
       "PRAA  1.035148         5.292364     0.127250"
      ]
     },
     "execution_count": 86,
     "metadata": {},
     "output_type": "execute_result"
    }
   ],
   "source": [
    "KPIs_df = calcular_KPIs_individuales(list(dataHistorica.keys()),ohlc_dict)\n",
    "KPIs_df"
   ]
  },
  {
   "cell_type": "markdown",
   "id": "6ed91975-fa15-4ef8-8d9e-a77f47b9580e",
   "metadata": {},
   "source": [
    "# Prueba desde 2020"
   ]
  },
  {
   "cell_type": "code",
   "execution_count": 102,
   "id": "9342fa34-d9e7-46b8-8d1d-35bf0b43becd",
   "metadata": {
    "tags": []
   },
   "outputs": [
    {
     "name": "stdout",
     "output_type": "stream",
     "text": [
      "MRNA\n",
      "NOVA\n",
      "CYRX\n",
      "ENPH\n",
      "AMD\n",
      "ROKU\n",
      "TSLA\n",
      "SAVE\n",
      "JD\n",
      "PRAA\n"
     ]
    }
   ],
   "source": [
    "tickers = [\"MRNA\",\"NOVA\",\"CYRX\",\"ENPH\",\"AMD\",\"ROKU\",\"TSLA\",\"SAVE\",\"JD\",\"PRAA\"]\n",
    "dataHistorica = extraer_data_historica_multiples_tickers(tickers,mt5.TIMEFRAME_M5,dt.datetime.now(),95000)"
   ]
  },
  {
   "cell_type": "code",
   "execution_count": 106,
   "id": "15bd1670-bffb-47fb-8d1a-276e8093e0bd",
   "metadata": {
    "tags": []
   },
   "outputs": [
    {
     "data": {
      "text/plain": [
       "time\n",
       "2024-06-20 18:50:00-04:00    722.560934\n",
       "Name: ret, dtype: float64"
      ]
     },
     "execution_count": 106,
     "metadata": {},
     "output_type": "execute_result"
    }
   ],
   "source": [
    "ohlc_dict,tickers_ret,trade_count,trade_data = backtest_macd_stoch_corto(dataHistorica,macd_a=6,macd_b=13,macd_c=4,oe_a=5,oe_b=4,oe_limite=30,atr_n=60,vr_ventana=250,vr_limite=1.5)\n",
    "retornos_estrategia,retornos_diarios = calcular_retornos_estrategia(list(dataHistorica.keys()),ohlc_dict)\n",
    "(1 + retornos_estrategia['ret']).cumprod().tail(1)"
   ]
  },
  {
   "cell_type": "code",
   "execution_count": 109,
   "id": "9d18dfbd-0f84-4096-876e-a9f6efb62eba",
   "metadata": {
    "tags": []
   },
   "outputs": [
    {
     "data": {
      "text/plain": [
       "<Axes: xlabel='time'>"
      ]
     },
     "execution_count": 109,
     "metadata": {},
     "output_type": "execute_result"
    },
    {
     "data": {
      "image/png": "[encoded data removed]",
      "text/plain": [
       "<Figure size 640x480 with 1 Axes>"
      ]
     },
     "metadata": {},
     "output_type": "display_data"
    }
   ],
   "source": [
    "(1 + retornos_estrategia['ret']).cumprod().plot()"
   ]
  },
  {
   "cell_type": "code",
   "execution_count": 111,
   "id": "28d8f7ea-d693-4412-ab30-fc8e8e903f25",
   "metadata": {
    "tags": []
   },
   "outputs": [
    {
     "name": "stdout",
     "output_type": "stream",
     "text": [
      "KPIs de la Estrategia\n",
      "Tasa Anual Compuesta de Crecimiento:  0.6989249410960667\n",
      "Ratio de Sharpe:  4.065186815143722\n",
      "Volatilidad Anualizada:  0.15839984000176907\n",
      "Maxima Perdida:  0.13720331993152277\n"
     ]
    }
   ],
   "source": [
    "print(\"KPIs de la Estrategia\")\n",
    "print(\"Tasa Anual Compuesta de Crecimiento: \",CAGR(retornos_estrategia))\n",
    "print(\"Ratio de Sharpe: \",ratio_de_sharpe(retornos_estrategia,0.055))\n",
    "print(\"Volatilidad Anualizada: \",volatilidad_anualizada(retornos_estrategia))\n",
    "print(\"Maxima Perdida: \",maxima_perdida(retornos_estrategia))"
   ]
  },
  {
   "cell_type": "code",
   "execution_count": 86,
   "id": "e56dcbf8-0575-4d5c-af52-ba8538653313",
   "metadata": {
    "tags": []
   },
   "outputs": [
    {
     "data": {
      "text/html": [
       "<div>\n",
       "<style scoped>\n",
       "    .dataframe tbody tr th:only-of-type {\n",
       "        vertical-align: middle;\n",
       "    }\n",
       "\n",
       "    .dataframe tbody tr th {\n",
       "        vertical-align: top;\n",
       "    }\n",
       "\n",
       "    .dataframe thead th {\n",
       "        text-align: right;\n",
       "    }\n",
       "</style>\n",
       "<table border=\"1\" class=\"dataframe\">\n",
       "  <thead>\n",
       "    <tr style=\"text-align: right;\">\n",
       "      <th></th>\n",
       "      <th>Retorno</th>\n",
       "      <th>Ratio de Sharpe</th>\n",
       "      <th>Max Perdida</th>\n",
       "    </tr>\n",
       "  </thead>\n",
       "  <tbody>\n",
       "    <tr>\n",
       "      <th>MRNA</th>\n",
       "      <td>0.622144</td>\n",
       "      <td>2.980704</td>\n",
       "      <td>0.154786</td>\n",
       "    </tr>\n",
       "    <tr>\n",
       "      <th>NOVA</th>\n",
       "      <td>1.309462</td>\n",
       "      <td>2.793282</td>\n",
       "      <td>0.341899</td>\n",
       "    </tr>\n",
       "    <tr>\n",
       "      <th>CYRX</th>\n",
       "      <td>1.254061</td>\n",
       "      <td>4.546111</td>\n",
       "      <td>0.141332</td>\n",
       "    </tr>\n",
       "    <tr>\n",
       "      <th>ENPH</th>\n",
       "      <td>0.554405</td>\n",
       "      <td>2.268258</td>\n",
       "      <td>0.148023</td>\n",
       "    </tr>\n",
       "    <tr>\n",
       "      <th>AMD</th>\n",
       "      <td>0.544362</td>\n",
       "      <td>2.727788</td>\n",
       "      <td>0.126456</td>\n",
       "    </tr>\n",
       "    <tr>\n",
       "      <th>ROKU</th>\n",
       "      <td>1.090510</td>\n",
       "      <td>4.069887</td>\n",
       "      <td>0.124242</td>\n",
       "    </tr>\n",
       "    <tr>\n",
       "      <th>TSLA</th>\n",
       "      <td>0.527780</td>\n",
       "      <td>2.343609</td>\n",
       "      <td>0.106824</td>\n",
       "    </tr>\n",
       "    <tr>\n",
       "      <th>SAVE</th>\n",
       "      <td>0.815847</td>\n",
       "      <td>2.472706</td>\n",
       "      <td>0.196827</td>\n",
       "    </tr>\n",
       "    <tr>\n",
       "      <th>JD</th>\n",
       "      <td>0.753502</td>\n",
       "      <td>3.966081</td>\n",
       "      <td>0.081248</td>\n",
       "    </tr>\n",
       "    <tr>\n",
       "      <th>PRAA</th>\n",
       "      <td>1.035148</td>\n",
       "      <td>5.292364</td>\n",
       "      <td>0.127250</td>\n",
       "    </tr>\n",
       "  </tbody>\n",
       "</table>\n",
       "</div>"
      ],
      "text/plain": [
       "       Retorno  Ratio de Sharpe  Max Perdida\n",
       "MRNA  0.622144         2.980704     0.154786\n",
       "NOVA  1.309462         2.793282     0.341899\n",
       "CYRX  1.254061         4.546111     0.141332\n",
       "ENPH  0.554405         2.268258     0.148023\n",
       "AMD   0.544362         2.727788     0.126456\n",
       "ROKU  1.090510         4.069887     0.124242\n",
       "TSLA  0.527780         2.343609     0.106824\n",
       "SAVE  0.815847         2.472706     0.196827\n",
       "JD    0.753502         3.966081     0.081248\n",
       "PRAA  1.035148         5.292364     0.127250"
      ]
     },
     "execution_count": 86,
     "metadata": {},
     "output_type": "execute_result"
    }
   ],
   "source": [
    "KPIs_df = calcular_KPIs_individuales(list(dataHistorica.keys()),ohlc_dict)\n",
    "KPIs_df"
   ]
  },
  {
   "cell_type": "markdown",
   "id": "63563e92-ce5c-4be0-8a7d-9fea4b5c597d",
   "metadata": {},
   "source": [
    "# 20 Acciones"
   ]
  },
  {
   "cell_type": "code",
   "execution_count": 11,
   "id": "7cba2dae-b13c-417d-b220-c0cab36208d1",
   "metadata": {
    "tags": []
   },
   "outputs": [
    {
     "name": "stdout",
     "output_type": "stream",
     "text": [
      "MRNA\n",
      "NOVA\n",
      "CYRX\n",
      "ENPH\n",
      "AMD\n",
      "ROKU\n",
      "TSLA\n",
      "SAVE\n",
      "JD\n",
      "PRAA\n",
      "MSTR\n",
      "COIN\n",
      "PLUG\n",
      "RUN\n",
      "RIVN\n",
      "MRCY\n",
      "DASH\n",
      "PSTG\n",
      "APLS\n",
      "ENTA\n"
     ]
    }
   ],
   "source": [
    "tickers = [\"MRNA\",\"NOVA\",\"CYRX\",\"ENPH\",\"AMD\",\"ROKU\",\"TSLA\",\"SAVE\",\"JD\",\"PRAA\",\n",
    "           \"MSTR\",\"COIN\",\"PLUG\",\"RUN\",\"RIVN\",\"MRCY\",\"DASH\",\"PSTG\",\"APLS\",\"ENTA\"]\n",
    "dataHistorica = extraer_data_historica_multiples_tickers(tickers,mt5.TIMEFRAME_M5,dt.datetime.now(),20000)"
   ]
  },
  {
   "cell_type": "markdown",
   "id": "832efd30-dfa4-4836-81bb-0f02b2f14b6d",
   "metadata": {},
   "source": [
    "## Pierna Larga y Corto"
   ]
  },
  {
   "cell_type": "code",
   "execution_count": 14,
   "id": "6c752891-6e4d-453b-b428-f6727df5b2e6",
   "metadata": {
    "tags": []
   },
   "outputs": [
    {
     "data": {
      "text/plain": [
       "time\n",
       "2024-06-21 13:35:00-04:00    6.125105\n",
       "Name: ret, dtype: float64"
      ]
     },
     "execution_count": 14,
     "metadata": {},
     "output_type": "execute_result"
    }
   ],
   "source": [
    "ohlc_dict,tickers_ret,trade_count,trade_data = backtest_macd_stoch_corto(dataHistorica,macd_a=6,macd_b=13,macd_c=4,oe_a=5,oe_b=4,oe_limite=30,atr_n=60,vr_ventana=250,vr_limite=1.5)\n",
    "retornos_estrategia,retornos_diarios = calcular_retornos_estrategia(list(dataHistorica.keys()),ohlc_dict)\n",
    "(1 + retornos_estrategia['ret']).cumprod().tail(1)"
   ]
  },
  {
   "cell_type": "code",
   "execution_count": 16,
   "id": "661e5017-1a61-40d3-a6fc-417064972273",
   "metadata": {
    "tags": []
   },
   "outputs": [
    {
     "data": {
      "text/plain": [
       "<Axes: xlabel='time'>"
      ]
     },
     "execution_count": 16,
     "metadata": {},
     "output_type": "execute_result"
    },
    {
     "data": {
      "image/png": "[encoded data removed]",
      "text/plain": [
       "<Figure size 640x480 with 1 Axes>"
      ]
     },
     "metadata": {},
     "output_type": "display_data"
    }
   ],
   "source": [
    "(1 + retornos_estrategia['ret']).cumprod().plot()"
   ]
  },
  {
   "cell_type": "code",
   "execution_count": 18,
   "id": "dd8b0597-2127-4605-9a9b-ea6ab4001c75",
   "metadata": {
    "tags": []
   },
   "outputs": [
    {
     "name": "stdout",
     "output_type": "stream",
     "text": [
      "KPIs de la Estrategia\n",
      "Tasa Anual Compuesta de Crecimiento:  4.969018278253831\n",
      "Ratio de Sharpe:  31.188791250961668\n",
      "Volatilidad Anualizada:  0.15755718901425247\n",
      "Maxima Perdida:  0.02967365868670211\n"
     ]
    }
   ],
   "source": [
    "print(\"KPIs de la Estrategia\")\n",
    "print(\"Tasa Anual Compuesta de Crecimiento: \",CAGR(retornos_estrategia))\n",
    "print(\"Ratio de Sharpe: \",ratio_de_sharpe(retornos_estrategia,0.055))\n",
    "print(\"Volatilidad Anualizada: \",volatilidad_anualizada(retornos_estrategia))\n",
    "print(\"Maxima Perdida: \",maxima_perdida(retornos_estrategia))"
   ]
  },
  {
   "cell_type": "code",
   "execution_count": 20,
   "id": "edc669ac-518a-48f7-91ec-f6f12d45cfff",
   "metadata": {
    "tags": []
   },
   "outputs": [
    {
     "data": {
      "text/html": [
       "<div>\n",
       "<style scoped>\n",
       "    .dataframe tbody tr th:only-of-type {\n",
       "        vertical-align: middle;\n",
       "    }\n",
       "\n",
       "    .dataframe tbody tr th {\n",
       "        vertical-align: top;\n",
       "    }\n",
       "\n",
       "    .dataframe thead th {\n",
       "        text-align: right;\n",
       "    }\n",
       "</style>\n",
       "<table border=\"1\" class=\"dataframe\">\n",
       "  <thead>\n",
       "    <tr style=\"text-align: right;\">\n",
       "      <th></th>\n",
       "      <th>Retorno</th>\n",
       "      <th>Ratio de Sharpe</th>\n",
       "      <th>Max Perdida</th>\n",
       "    </tr>\n",
       "  </thead>\n",
       "  <tbody>\n",
       "    <tr>\n",
       "      <th>MRNA</th>\n",
       "      <td>3.163363</td>\n",
       "      <td>9.450201</td>\n",
       "      <td>0.154786</td>\n",
       "    </tr>\n",
       "    <tr>\n",
       "      <th>NOVA</th>\n",
       "      <td>10.900988</td>\n",
       "      <td>13.933367</td>\n",
       "      <td>0.341899</td>\n",
       "    </tr>\n",
       "    <tr>\n",
       "      <th>CYRX</th>\n",
       "      <td>10.518082</td>\n",
       "      <td>22.895618</td>\n",
       "      <td>0.141332</td>\n",
       "    </tr>\n",
       "    <tr>\n",
       "      <th>ENPH</th>\n",
       "      <td>2.726868</td>\n",
       "      <td>7.000214</td>\n",
       "      <td>0.148023</td>\n",
       "    </tr>\n",
       "    <tr>\n",
       "      <th>AMD</th>\n",
       "      <td>2.777791</td>\n",
       "      <td>8.753833</td>\n",
       "      <td>0.126456</td>\n",
       "    </tr>\n",
       "    <tr>\n",
       "      <th>ROKU</th>\n",
       "      <td>7.943219</td>\n",
       "      <td>17.904911</td>\n",
       "      <td>0.124242</td>\n",
       "    </tr>\n",
       "    <tr>\n",
       "      <th>TSLA</th>\n",
       "      <td>2.610622</td>\n",
       "      <td>7.314574</td>\n",
       "      <td>0.106824</td>\n",
       "    </tr>\n",
       "    <tr>\n",
       "      <th>SAVE</th>\n",
       "      <td>5.012225</td>\n",
       "      <td>9.275486</td>\n",
       "      <td>0.196827</td>\n",
       "    </tr>\n",
       "    <tr>\n",
       "      <th>JD</th>\n",
       "      <td>4.277991</td>\n",
       "      <td>13.857033</td>\n",
       "      <td>0.081248</td>\n",
       "    </tr>\n",
       "    <tr>\n",
       "      <th>PRAA</th>\n",
       "      <td>7.643375</td>\n",
       "      <td>23.615514</td>\n",
       "      <td>0.127250</td>\n",
       "    </tr>\n",
       "    <tr>\n",
       "      <th>MSTR</th>\n",
       "      <td>5.452781</td>\n",
       "      <td>9.439314</td>\n",
       "      <td>0.317834</td>\n",
       "    </tr>\n",
       "    <tr>\n",
       "      <th>COIN</th>\n",
       "      <td>4.991609</td>\n",
       "      <td>8.820423</td>\n",
       "      <td>0.345699</td>\n",
       "    </tr>\n",
       "    <tr>\n",
       "      <th>PLUG</th>\n",
       "      <td>5.131014</td>\n",
       "      <td>7.321377</td>\n",
       "      <td>0.283333</td>\n",
       "    </tr>\n",
       "    <tr>\n",
       "      <th>RUN</th>\n",
       "      <td>6.355398</td>\n",
       "      <td>10.776295</td>\n",
       "      <td>0.223013</td>\n",
       "    </tr>\n",
       "    <tr>\n",
       "      <th>RIVN</th>\n",
       "      <td>1.077197</td>\n",
       "      <td>2.220756</td>\n",
       "      <td>0.171839</td>\n",
       "    </tr>\n",
       "    <tr>\n",
       "      <th>MRCY</th>\n",
       "      <td>3.345283</td>\n",
       "      <td>12.180062</td>\n",
       "      <td>0.106721</td>\n",
       "    </tr>\n",
       "    <tr>\n",
       "      <th>DASH</th>\n",
       "      <td>3.592786</td>\n",
       "      <td>11.703080</td>\n",
       "      <td>0.092688</td>\n",
       "    </tr>\n",
       "    <tr>\n",
       "      <th>PSTG</th>\n",
       "      <td>1.199143</td>\n",
       "      <td>4.116338</td>\n",
       "      <td>0.106376</td>\n",
       "    </tr>\n",
       "    <tr>\n",
       "      <th>APLS</th>\n",
       "      <td>8.577986</td>\n",
       "      <td>17.069212</td>\n",
       "      <td>0.282175</td>\n",
       "    </tr>\n",
       "    <tr>\n",
       "      <th>ENTA</th>\n",
       "      <td>5.728425</td>\n",
       "      <td>13.979749</td>\n",
       "      <td>0.161731</td>\n",
       "    </tr>\n",
       "  </tbody>\n",
       "</table>\n",
       "</div>"
      ],
      "text/plain": [
       "        Retorno  Ratio de Sharpe  Max Perdida\n",
       "MRNA   3.163363         9.450201     0.154786\n",
       "NOVA  10.900988        13.933367     0.341899\n",
       "CYRX  10.518082        22.895618     0.141332\n",
       "ENPH   2.726868         7.000214     0.148023\n",
       "AMD    2.777791         8.753833     0.126456\n",
       "ROKU   7.943219        17.904911     0.124242\n",
       "TSLA   2.610622         7.314574     0.106824\n",
       "SAVE   5.012225         9.275486     0.196827\n",
       "JD     4.277991        13.857033     0.081248\n",
       "PRAA   7.643375        23.615514     0.127250\n",
       "MSTR   5.452781         9.439314     0.317834\n",
       "COIN   4.991609         8.820423     0.345699\n",
       "PLUG   5.131014         7.321377     0.283333\n",
       "RUN    6.355398        10.776295     0.223013\n",
       "RIVN   1.077197         2.220756     0.171839\n",
       "MRCY   3.345283        12.180062     0.106721\n",
       "DASH   3.592786        11.703080     0.092688\n",
       "PSTG   1.199143         4.116338     0.106376\n",
       "APLS   8.577986        17.069212     0.282175\n",
       "ENTA   5.728425        13.979749     0.161731"
      ]
     },
     "execution_count": 20,
     "metadata": {},
     "output_type": "execute_result"
    }
   ],
   "source": [
    "KPIs_df = calcular_KPIs_individuales(list(dataHistorica.keys()),ohlc_dict)\n",
    "KPIs_df"
   ]
  },
  {
   "cell_type": "markdown",
   "id": "6cf52e42-6494-45b5-9da3-9d9dfaff4e9d",
   "metadata": {},
   "source": [
    "# Acciones constituyentes del S&P 500"
   ]
  },
  {
   "cell_type": "code",
   "execution_count": 15,
   "id": "0073a03c-7127-4670-bd80-b887141b74a9",
   "metadata": {
    "tags": []
   },
   "outputs": [
    {
     "name": "stdout",
     "output_type": "stream",
     "text": [
      "MRNA\n",
      "CRWD\n",
      "NVDA\n",
      "ENPH\n",
      "AMD\n",
      "MASI\n",
      "TSLA\n",
      "CCL\n",
      "ABNB\n",
      "FCX\n"
     ]
    }
   ],
   "source": [
    "tickers = [\"MRNA\",\"CRWD\",\"NVDA\",\"ENPH\",\"AMD\",\"MASI\",\"TSLA\",\"CCL\",\"ABNB\",\"FCX\"]\n",
    "dataHistorica = extraer_data_historica_multiples_tickers(tickers,mt5.TIMEFRAME_M5,dt.datetime.now(),20000)"
   ]
  },
  {
   "cell_type": "code",
   "execution_count": 17,
   "id": "43813e28-c6fa-48df-b331-9c52a45b6d39",
   "metadata": {
    "tags": []
   },
   "outputs": [
    {
     "data": {
      "text/plain": [
       "time\n",
       "2024-06-24 09:05:00-04:00    3.294522\n",
       "Name: ret, dtype: float64"
      ]
     },
     "execution_count": 17,
     "metadata": {},
     "output_type": "execute_result"
    }
   ],
   "source": [
    "ohlc_dict,tickers_ret,trade_count,trade_data = backtest_macd_stoch_corto(dataHistorica,macd_a=6,macd_b=13,macd_c=4,oe_a=5,oe_b=4,oe_limite=30,atr_n=60,vr_ventana=250,vr_limite=1.5)\n",
    "retornos_estrategia,retornos_diarios = calcular_retornos_estrategia(list(dataHistorica.keys()),ohlc_dict)\n",
    "(1 + retornos_estrategia['ret']).cumprod().tail(1)"
   ]
  },
  {
   "cell_type": "code",
   "execution_count": 19,
   "id": "684bdc5f-66c0-4267-b7d9-609276c6978c",
   "metadata": {
    "tags": []
   },
   "outputs": [
    {
     "data": {
      "text/plain": [
       "<Axes: xlabel='time'>"
      ]
     },
     "execution_count": 19,
     "metadata": {},
     "output_type": "execute_result"
    },
    {
     "data": {
      "image/png": "[encoded data removed]",
      "text/plain": [
       "<Figure size 640x480 with 1 Axes>"
      ]
     },
     "metadata": {},
     "output_type": "display_data"
    }
   ],
   "source": [
    "(1 + retornos_estrategia['ret']).cumprod().plot()"
   ]
  },
  {
   "cell_type": "code",
   "execution_count": 21,
   "id": "bbb1b82a-e30f-49cf-924c-8d989b567867",
   "metadata": {
    "tags": []
   },
   "outputs": [
    {
     "name": "stdout",
     "output_type": "stream",
     "text": [
      "KPIs de la Estrategia\n",
      "Tasa Anual Compuesta de Crecimiento:  2.2390496273468794\n",
      "Ratio de Sharpe:  16.8342002199996\n",
      "Volatilidad Anualizada:  0.12973884109755057\n",
      "Maxima Perdida:  0.03476659492935404\n"
     ]
    }
   ],
   "source": [
    "print(\"KPIs de la Estrategia\")\n",
    "print(\"Tasa Anual Compuesta de Crecimiento: \",CAGR(retornos_estrategia))\n",
    "print(\"Ratio de Sharpe: \",ratio_de_sharpe(retornos_estrategia,0.055))\n",
    "print(\"Volatilidad Anualizada: \",volatilidad_anualizada(retornos_estrategia))\n",
    "print(\"Maxima Perdida: \",maxima_perdida(retornos_estrategia))"
   ]
  },
  {
   "cell_type": "code",
   "execution_count": 23,
   "id": "29236616-fa52-4b1f-99d6-2f9c33fd0e2d",
   "metadata": {
    "tags": []
   },
   "outputs": [
    {
     "data": {
      "text/html": [
       "<div>\n",
       "<style scoped>\n",
       "    .dataframe tbody tr th:only-of-type {\n",
       "        vertical-align: middle;\n",
       "    }\n",
       "\n",
       "    .dataframe tbody tr th {\n",
       "        vertical-align: top;\n",
       "    }\n",
       "\n",
       "    .dataframe thead th {\n",
       "        text-align: right;\n",
       "    }\n",
       "</style>\n",
       "<table border=\"1\" class=\"dataframe\">\n",
       "  <thead>\n",
       "    <tr style=\"text-align: right;\">\n",
       "      <th></th>\n",
       "      <th>Retorno</th>\n",
       "      <th>Ratio de Sharpe</th>\n",
       "      <th>Max Perdida</th>\n",
       "    </tr>\n",
       "  </thead>\n",
       "  <tbody>\n",
       "    <tr>\n",
       "      <th>MRNA</th>\n",
       "      <td>3.130273</td>\n",
       "      <td>9.348402</td>\n",
       "      <td>0.154786</td>\n",
       "    </tr>\n",
       "    <tr>\n",
       "      <th>CRWD</th>\n",
       "      <td>2.821492</td>\n",
       "      <td>8.601796</td>\n",
       "      <td>0.133007</td>\n",
       "    </tr>\n",
       "    <tr>\n",
       "      <th>NVDA</th>\n",
       "      <td>1.142148</td>\n",
       "      <td>3.850194</td>\n",
       "      <td>0.161917</td>\n",
       "    </tr>\n",
       "    <tr>\n",
       "      <th>ENPH</th>\n",
       "      <td>2.682597</td>\n",
       "      <td>6.883297</td>\n",
       "      <td>0.148023</td>\n",
       "    </tr>\n",
       "    <tr>\n",
       "      <th>AMD</th>\n",
       "      <td>2.772691</td>\n",
       "      <td>8.731955</td>\n",
       "      <td>0.126456</td>\n",
       "    </tr>\n",
       "    <tr>\n",
       "      <th>MASI</th>\n",
       "      <td>1.594975</td>\n",
       "      <td>6.226862</td>\n",
       "      <td>0.122183</td>\n",
       "    </tr>\n",
       "    <tr>\n",
       "      <th>TSLA</th>\n",
       "      <td>2.667988</td>\n",
       "      <td>7.463919</td>\n",
       "      <td>0.106824</td>\n",
       "    </tr>\n",
       "    <tr>\n",
       "      <th>CCL</th>\n",
       "      <td>1.343521</td>\n",
       "      <td>3.913447</td>\n",
       "      <td>0.160138</td>\n",
       "    </tr>\n",
       "    <tr>\n",
       "      <th>ABNB</th>\n",
       "      <td>2.177855</td>\n",
       "      <td>9.088471</td>\n",
       "      <td>0.076610</td>\n",
       "    </tr>\n",
       "    <tr>\n",
       "      <th>FCX</th>\n",
       "      <td>1.555257</td>\n",
       "      <td>6.259202</td>\n",
       "      <td>0.060717</td>\n",
       "    </tr>\n",
       "  </tbody>\n",
       "</table>\n",
       "</div>"
      ],
      "text/plain": [
       "       Retorno  Ratio de Sharpe  Max Perdida\n",
       "MRNA  3.130273         9.348402     0.154786\n",
       "CRWD  2.821492         8.601796     0.133007\n",
       "NVDA  1.142148         3.850194     0.161917\n",
       "ENPH  2.682597         6.883297     0.148023\n",
       "AMD   2.772691         8.731955     0.126456\n",
       "MASI  1.594975         6.226862     0.122183\n",
       "TSLA  2.667988         7.463919     0.106824\n",
       "CCL   1.343521         3.913447     0.160138\n",
       "ABNB  2.177855         9.088471     0.076610\n",
       "FCX   1.555257         6.259202     0.060717"
      ]
     },
     "execution_count": 23,
     "metadata": {},
     "output_type": "execute_result"
    }
   ],
   "source": [
    "KPIs_df = calcular_KPIs_individuales(list(dataHistorica.keys()),ohlc_dict)\n",
    "KPIs_df"
   ]
  },
  {
   "cell_type": "markdown",
   "id": "c29b3f8f-a94e-492b-a6ab-341fbdedbd4f",
   "metadata": {},
   "source": [
    "# Acciones con volumen diario > 1.000.000"
   ]
  },
  {
   "cell_type": "code",
   "execution_count": 11,
   "id": "05cbc495-bed9-4d41-9f35-c0da463b9a0a",
   "metadata": {
    "tags": []
   },
   "outputs": [
    {
     "name": "stdout",
     "output_type": "stream",
     "text": [
      "MRNA\n",
      "MASI\n",
      "CYRX\n",
      "ENPH\n",
      "AMD\n",
      "ROKU\n",
      "TSLA\n",
      "SAVE\n",
      "JD\n",
      "ABNB\n"
     ]
    }
   ],
   "source": [
    "tickers = [\"MRNA\",\"MASI\",\"CYRX\",\"ENPH\",\"AMD\",\"ROKU\",\"TSLA\",\"SAVE\",\"JD\",\"ABNB\"]\n",
    "dataHistorica = extraer_data_historica_multiples_tickers(tickers,mt5.TIMEFRAME_M5,dt.datetime.now(),20000)"
   ]
  },
  {
   "cell_type": "code",
   "execution_count": 13,
   "id": "f1db16c1-001c-474f-b587-d02483c198bd",
   "metadata": {
    "tags": []
   },
   "outputs": [
    {
     "data": {
      "text/plain": [
       "time\n",
       "2024-06-24 13:10:00-04:00    5.017799\n",
       "Name: ret, dtype: float64"
      ]
     },
     "execution_count": 13,
     "metadata": {},
     "output_type": "execute_result"
    }
   ],
   "source": [
    "ohlc_dict,tickers_ret,trade_count,trade_data = backtest_macd_stoch_corto(dataHistorica,macd_a=6,macd_b=13,macd_c=4,oe_a=5,oe_b=4,oe_limite=30,atr_n=60,vr_ventana=250,vr_limite=1.5)\n",
    "retornos_estrategia,retornos_diarios = calcular_retornos_estrategia(list(dataHistorica.keys()),ohlc_dict)\n",
    "(1 + retornos_estrategia['ret']).cumprod().tail(1)"
   ]
  },
  {
   "cell_type": "code",
   "execution_count": 15,
   "id": "64b50209-31fa-4bb9-b4aa-42fdf2ffd686",
   "metadata": {
    "tags": []
   },
   "outputs": [
    {
     "data": {
      "text/plain": [
       "<Axes: xlabel='time'>"
      ]
     },
     "execution_count": 15,
     "metadata": {},
     "output_type": "execute_result"
    },
    {
     "data": {
      "image/png": "[encoded data removed]",
      "text/plain": [
       "<Figure size 640x480 with 1 Axes>"
      ]
     },
     "metadata": {},
     "output_type": "display_data"
    }
   ],
   "source": [
    "(1 + retornos_estrategia['ret']).cumprod().plot()"
   ]
  },
  {
   "cell_type": "code",
   "execution_count": 21,
   "id": "93e0f55f-14dd-4365-abc4-aefa9a5a9ad2",
   "metadata": {
    "tags": []
   },
   "outputs": [
    {
     "name": "stdout",
     "output_type": "stream",
     "text": [
      "KPIs de la Estrategia\n",
      "Tasa Anual Compuesta de Crecimiento:  2.2390496273468794\n",
      "Ratio de Sharpe:  16.8342002199996\n",
      "Volatilidad Anualizada:  0.12973884109755057\n",
      "Maxima Perdida:  0.03476659492935404\n"
     ]
    }
   ],
   "source": [
    "print(\"KPIs Interdiarios de la Estrategia\")\n",
    "print(\"Tasa Anual Compuesta de Crecimiento: \",CAGR(retornos_estrategia))\n",
    "print(\"Ratio de Sharpe: \",ratio_de_sharpe(retornos_estrategia,0.055))\n",
    "print(\"Volatilidad Anualizada: \",volatilidad_anualizada(retornos_estrategia))\n",
    "print(\"Maxima Perdida: \",maxima_perdida(retornos_estrategia))"
   ]
  },
  {
   "cell_type": "code",
   "execution_count": 59,
   "id": "005480f3-5207-4c2b-bfc8-cb06877e0579",
   "metadata": {
    "tags": []
   },
   "outputs": [
    {
     "name": "stdout",
     "output_type": "stream",
     "text": [
      "KPIs Intradiarios de la Estrategia\n",
      "Tasa de Exito por Operacion:  50.7023815517849\n",
      "Retorno Medio por Operacion:  8.17557641047772e-05\n",
      "Retorno Medio por Operacion Exitosa:  0.0006685747202162911\n",
      "Retorno Medio por Operacion No Exitosa:  -0.0005217849251039804\n",
      "Maximo Numero de Perdidas Consecutivas:  12\n"
     ]
    }
   ],
   "source": [
    "print(\"KPIs Intradiarios de la Estrategia\")\n",
    "print(\"Tasa de Exito por Operacion: \",tasa_exito_por_operacion(retornos_estrategia))\n",
    "print(\"Retorno Medio por Operacion: \",ret_medio_por_operacion(retornos_estrategia))\n",
    "print(\"Retorno Medio por Operacion Exitosa: \",ret_medio_por_operacion_exitosa(retornos_estrategia))\n",
    "print(\"Retorno Medio por Operacion No Exitosa: \",ret_medio_por_operacion_no_exitosa(retornos_estrategia))\n",
    "print(\"Maximo Numero de Perdidas Consecutivas: \",max_num_perdidas_consectv(retornos_estrategia))"
   ]
  },
  {
   "cell_type": "code",
   "execution_count": 57,
   "id": "98bea501-8793-4458-9de9-d616dc4fc90b",
   "metadata": {
    "tags": []
   },
   "outputs": [
    {
     "data": {
      "text/html": [
       "<div>\n",
       "<style scoped>\n",
       "    .dataframe tbody tr th:only-of-type {\n",
       "        vertical-align: middle;\n",
       "    }\n",
       "\n",
       "    .dataframe tbody tr th {\n",
       "        vertical-align: top;\n",
       "    }\n",
       "\n",
       "    .dataframe thead th {\n",
       "        text-align: right;\n",
       "    }\n",
       "</style>\n",
       "<table border=\"1\" class=\"dataframe\">\n",
       "  <thead>\n",
       "    <tr style=\"text-align: right;\">\n",
       "      <th></th>\n",
       "      <th>Retorno</th>\n",
       "      <th>Ratio de Sharpe</th>\n",
       "      <th>Max Perdida</th>\n",
       "      <th>Tasa Exito por Oper.</th>\n",
       "      <th>Ret Medio por Oper.</th>\n",
       "      <th>Ret Medio por Oper. Exitosa</th>\n",
       "      <th>Ret Medio por Oper. no Exitosa</th>\n",
       "      <th>Max # perdidas Consecutivas</th>\n",
       "    </tr>\n",
       "  </thead>\n",
       "  <tbody>\n",
       "    <tr>\n",
       "      <th>MRNA</th>\n",
       "      <td>3.135320</td>\n",
       "      <td>9.366223</td>\n",
       "      <td>0.154786</td>\n",
       "      <td>49.392684</td>\n",
       "      <td>0.000105</td>\n",
       "      <td>0.001913</td>\n",
       "      <td>-0.001660</td>\n",
       "      <td>12.0</td>\n",
       "    </tr>\n",
       "    <tr>\n",
       "      <th>MASI</th>\n",
       "      <td>1.667176</td>\n",
       "      <td>6.516313</td>\n",
       "      <td>0.122183</td>\n",
       "      <td>48.971861</td>\n",
       "      <td>0.000079</td>\n",
       "      <td>0.001503</td>\n",
       "      <td>-0.001287</td>\n",
       "      <td>9.0</td>\n",
       "    </tr>\n",
       "    <tr>\n",
       "      <th>CYRX</th>\n",
       "      <td>9.676371</td>\n",
       "      <td>21.066208</td>\n",
       "      <td>0.141332</td>\n",
       "      <td>49.593566</td>\n",
       "      <td>0.000214</td>\n",
       "      <td>0.003155</td>\n",
       "      <td>-0.002679</td>\n",
       "      <td>9.0</td>\n",
       "    </tr>\n",
       "    <tr>\n",
       "      <th>ENPH</th>\n",
       "      <td>2.831821</td>\n",
       "      <td>7.273640</td>\n",
       "      <td>0.148023</td>\n",
       "      <td>49.256738</td>\n",
       "      <td>0.000100</td>\n",
       "      <td>0.002204</td>\n",
       "      <td>-0.001943</td>\n",
       "      <td>12.0</td>\n",
       "    </tr>\n",
       "    <tr>\n",
       "      <th>AMD</th>\n",
       "      <td>2.931444</td>\n",
       "      <td>9.239559</td>\n",
       "      <td>0.126456</td>\n",
       "      <td>49.698472</td>\n",
       "      <td>0.000096</td>\n",
       "      <td>0.001776</td>\n",
       "      <td>-0.001564</td>\n",
       "      <td>9.0</td>\n",
       "    </tr>\n",
       "    <tr>\n",
       "      <th>ROKU</th>\n",
       "      <td>7.476949</td>\n",
       "      <td>16.863147</td>\n",
       "      <td>0.124242</td>\n",
       "      <td>50.147430</td>\n",
       "      <td>0.000159</td>\n",
       "      <td>0.002176</td>\n",
       "      <td>-0.001870</td>\n",
       "      <td>9.0</td>\n",
       "    </tr>\n",
       "    <tr>\n",
       "      <th>TSLA</th>\n",
       "      <td>2.631661</td>\n",
       "      <td>7.362430</td>\n",
       "      <td>0.106824</td>\n",
       "      <td>48.970175</td>\n",
       "      <td>0.000092</td>\n",
       "      <td>0.001879</td>\n",
       "      <td>-0.001624</td>\n",
       "      <td>12.0</td>\n",
       "    </tr>\n",
       "    <tr>\n",
       "      <th>SAVE</th>\n",
       "      <td>4.749739</td>\n",
       "      <td>8.776171</td>\n",
       "      <td>0.196827</td>\n",
       "      <td>50.346522</td>\n",
       "      <td>0.000168</td>\n",
       "      <td>0.003271</td>\n",
       "      <td>-0.002978</td>\n",
       "      <td>9.0</td>\n",
       "    </tr>\n",
       "    <tr>\n",
       "      <th>JD</th>\n",
       "      <td>4.274449</td>\n",
       "      <td>13.826879</td>\n",
       "      <td>0.081248</td>\n",
       "      <td>49.825836</td>\n",
       "      <td>0.000128</td>\n",
       "      <td>0.001409</td>\n",
       "      <td>-0.001143</td>\n",
       "      <td>9.0</td>\n",
       "    </tr>\n",
       "    <tr>\n",
       "      <th>ABNB</th>\n",
       "      <td>2.095999</td>\n",
       "      <td>8.776148</td>\n",
       "      <td>0.076610</td>\n",
       "      <td>49.427428</td>\n",
       "      <td>0.000081</td>\n",
       "      <td>0.001369</td>\n",
       "      <td>-0.001177</td>\n",
       "      <td>10.0</td>\n",
       "    </tr>\n",
       "  </tbody>\n",
       "</table>\n",
       "</div>"
      ],
      "text/plain": [
       "       Retorno  Ratio de Sharpe  Max Perdida  Tasa Exito por Oper.  \\\n",
       "MRNA  3.135320         9.366223     0.154786             49.392684   \n",
       "MASI  1.667176         6.516313     0.122183             48.971861   \n",
       "CYRX  9.676371        21.066208     0.141332             49.593566   \n",
       "ENPH  2.831821         7.273640     0.148023             49.256738   \n",
       "AMD   2.931444         9.239559     0.126456             49.698472   \n",
       "ROKU  7.476949        16.863147     0.124242             50.147430   \n",
       "TSLA  2.631661         7.362430     0.106824             48.970175   \n",
       "SAVE  4.749739         8.776171     0.196827             50.346522   \n",
       "JD    4.274449        13.826879     0.081248             49.825836   \n",
       "ABNB  2.095999         8.776148     0.076610             49.427428   \n",
       "\n",
       "      Ret Medio por Oper.  Ret Medio por Oper. Exitosa  \\\n",
       "MRNA             0.000105                     0.001913   \n",
       "MASI             0.000079                     0.001503   \n",
       "CYRX             0.000214                     0.003155   \n",
       "ENPH             0.000100                     0.002204   \n",
       "AMD              0.000096                     0.001776   \n",
       "ROKU             0.000159                     0.002176   \n",
       "TSLA             0.000092                     0.001879   \n",
       "SAVE             0.000168                     0.003271   \n",
       "JD               0.000128                     0.001409   \n",
       "ABNB             0.000081                     0.001369   \n",
       "\n",
       "      Ret Medio por Oper. no Exitosa  Max # perdidas Consecutivas  \n",
       "MRNA                       -0.001660                         12.0  \n",
       "MASI                       -0.001287                          9.0  \n",
       "CYRX                       -0.002679                          9.0  \n",
       "ENPH                       -0.001943                         12.0  \n",
       "AMD                        -0.001564                          9.0  \n",
       "ROKU                       -0.001870                          9.0  \n",
       "TSLA                       -0.001624                         12.0  \n",
       "SAVE                       -0.002978                          9.0  \n",
       "JD                         -0.001143                          9.0  \n",
       "ABNB                       -0.001177                         10.0  "
      ]
     },
     "execution_count": 57,
     "metadata": {},
     "output_type": "execute_result"
    }
   ],
   "source": [
    "KPIs_df = calcular_KPIs_individuales(list(dataHistorica.keys()),ohlc_dict)\n",
    "KPIs_df"
   ]
  },
  {
   "cell_type": "code",
   "execution_count": null,
   "id": "8cce318e-a510-494d-be0b-746b489703ab",
   "metadata": {},
   "outputs": [],
   "source": []
  }
 ],
 "metadata": {
  "kernelspec": {
   "display_name": "Python 3 (ipykernel)",
   "language": "python",
   "name": "python3"
  },
  "language_info": {
   "codemirror_mode": {
    "name": "ipython",
    "version": 3
   },
   "file_extension": ".py",
   "mimetype": "text/x-python",
   "name": "python",
   "nbconvert_exporter": "python",
   "pygments_lexer": "ipython3",
   "version": "3.8.19"
  }
 },
 "nbformat": 4,
 "nbformat_minor": 5
}
